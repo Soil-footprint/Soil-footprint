{
 "cells": [
  {
   "cell_type": "markdown",
   "id": "023563aa",
   "metadata": {},
   "source": [
    "# Understanding the Soil Footprint of Our Diet\n",
    "\n",
    "Soil is a fundamental resource that supports food production, yet it is often overlooked when considering the environmental impact of our diets. Different types of food require varying amounts of soil to grow, influenced by factors such as crop type, agricultural practices, and land use efficiency. Understanding the **soil footprint**—the amount of soil lost or degraded per kilogram of food produced—can help us make more sustainable dietary choices.\n",
    "\n",
    "This tool provides an interactive way to explore the soil footprint of different food items commonly consumed in daily life. By selecting between different options, users can see how their choices affect soil loss on an annual basis. Additionally, the tool suggests more sustainable alternatives to help reduce soil degradation. \n",
    "\n",
    "Through visualization and interactivity, this tool aims to raise awareness of how our food choices impact soil resources and encourage more sustainable consumption patterns. 🌱"
   ]
  },
  {
   "cell_type": "code",
   "execution_count": 3,
   "id": "2b4b2d44",
   "metadata": {},
   "outputs": [
    {
     "data": {
      "application/vnd.jupyter.widget-view+json": {
       "model_id": "911d06616c2545e3afaf2206c61f3d8b",
       "version_major": 2,
       "version_minor": 0
      },
      "text/plain": [
       "Dropdown(description='Rice or Potatoes', options=('Rice', 'Potatoes'), style=DescriptionStyle(description_widt…"
      ]
     },
     "metadata": {},
     "output_type": "display_data"
    },
    {
     "data": {
      "application/vnd.jupyter.widget-view+json": {
       "model_id": "0cfee9f49bdc4073b6a2af696d88d009",
       "version_major": 2,
       "version_minor": 0
      },
      "text/plain": [
       "Dropdown(description='Beer or Wine', options=('Beer', 'Wine'), style=DescriptionStyle(description_width='initi…"
      ]
     },
     "metadata": {},
     "output_type": "display_data"
    },
    {
     "data": {
      "application/vnd.jupyter.widget-view+json": {
       "model_id": "16cca7d9077e460bbfa3a57d90a999fa",
       "version_major": 2,
       "version_minor": 0
      },
      "text/plain": [
       "Dropdown(description='Olive oil or Sunflower oil', options=('Olive oil', 'Sunflower oil'), style=DescriptionSt…"
      ]
     },
     "metadata": {},
     "output_type": "display_data"
    },
    {
     "data": {
      "application/vnd.jupyter.widget-view+json": {
       "model_id": "5a245a809d8b43d8ac3fdbbe4fe73a02",
       "version_major": 2,
       "version_minor": 0
      },
      "text/plain": [
       "Dropdown(description='Oranges or Peaches', options=('Oranges', 'Peaches'), style=DescriptionStyle(description_…"
      ]
     },
     "metadata": {},
     "output_type": "display_data"
    },
    {
     "data": {
      "application/vnd.jupyter.widget-view+json": {
       "model_id": "b32ef2a4112c4dbfb1c56a760efd8285",
       "version_major": 2,
       "version_minor": 0
      },
      "text/plain": [
       "Dropdown(description='Rye bread or Wheat bread', options=('Rye bread', 'Wheat bread'), style=DescriptionStyle(…"
      ]
     },
     "metadata": {},
     "output_type": "display_data"
    },
    {
     "data": {
      "application/vnd.jupyter.widget-view+json": {
       "model_id": "b98067d155034cfc94ffbc6ba19e253c",
       "version_major": 2,
       "version_minor": 0
      },
      "text/plain": [
       "Output()"
      ]
     },
     "metadata": {},
     "output_type": "display_data"
    }
   ],
   "source": [
    "from util.functions import run_soil_footprint_app\n",
    "run_soil_footprint_app()"
   ]
  },
  {
   "cell_type": "markdown",
   "id": "962c01b8",
   "metadata": {},
   "source": [
    "## Introduction to the Topic: Soil Footprint of Typical Spanish Meals\n",
    "Soil is a finite resource essential for food production, yet it is often overlooked in discussions about sustainable diets. Different foods have varying soil footprints, meaning that some meals require more land per kilogram of food produced than others.\n",
    "\n",
    "This tool allows users to explore the soil footprint of common meals in Spain, such as a glass of wine, tortilla de patatas (with or without onion), toast with olive oil, and fruit portions (orange, peach, or cherry). By selecting a meal, users can see the total soil footprint required to produce its ingredients and visualize how each ingredient contributes to the overall impact.\n",
    "\n",
    "This interactive tool aims to raise awareness about the connection between diet choices and land use, helping individuals make informed decisions about sustainable food consumption."
   ]
  },
  {
   "cell_type": "code",
   "execution_count": 4,
   "id": "29c6d217",
   "metadata": {},
   "outputs": [
    {
     "data": {
      "application/vnd.jupyter.widget-view+json": {
       "model_id": "2a673de5cffe43efa85fb752af180327",
       "version_major": 2,
       "version_minor": 0
      },
      "text/plain": [
       "interactive(children=(Dropdown(description='Comida:', options=('Vaso de vino', 'Tortilla de patatas (con cebol…"
      ]
     },
     "metadata": {},
     "output_type": "display_data"
    }
   ],
   "source": [
    "from util.functions import mostrar_selector_comida\n",
    "mostrar_selector_comida()"
   ]
  },
  {
   "cell_type": "code",
   "execution_count": null,
   "id": "35eafce4",
   "metadata": {},
   "outputs": [],
   "source": []
  }
 ],
 "metadata": {
  "kernelspec": {
   "display_name": "Python 3",
   "language": "python",
   "name": "python3"
  },
  "language_info": {
   "codemirror_mode": {
    "name": "ipython",
    "version": 3
   },
   "file_extension": ".py",
   "mimetype": "text/x-python",
   "name": "python",
   "nbconvert_exporter": "python",
   "pygments_lexer": "ipython3",
   "version": "3.8.8"
  }
 },
 "nbformat": 4,
 "nbformat_minor": 5
}
